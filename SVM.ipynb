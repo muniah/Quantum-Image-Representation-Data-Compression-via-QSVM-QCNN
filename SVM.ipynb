{
 "cells": [
  {
   "cell_type": "markdown",
   "metadata": {},
   "source": [
    "# Classical Pre-processing"
   ]
  },
  {
   "cell_type": "code",
   "execution_count": 1,
   "metadata": {},
   "outputs": [
    {
     "data": {
      "text/plain": [
       "'0.7.2'"
      ]
     },
     "execution_count": 1,
     "metadata": {},
     "output_type": "execute_result"
    }
   ],
   "source": [
    "import qiskit_machine_learning\n",
    "qiskit_machine_learning.__version__"
   ]
  },
  {
   "cell_type": "code",
   "execution_count": 2,
   "metadata": {},
   "outputs": [],
   "source": [
    "import numpy as np # type: ignore\n",
    "import tensorflow as tf # type: ignore\n",
    "from tensorflow.keras import datasets, layers, models   # type: ignore\n",
    "from tensorflow.keras.utils import to_categorical # type: ignore\n",
    "import time\n",
    "import matplotlib.pyplot as plt # type: ignore\n",
    "import warnings # type: ignore\n",
    "warnings.filterwarnings('ignore')\n",
    "\n",
    "from sklearn.model_selection import train_test_split\n",
    "from sklearn.decomposition import PCA\n",
    "from sklearn.preprocessing import MinMaxScaler, StandardScaler\n",
    "\n",
    "from qiskit.circuit.library import ZZFeatureMap\n",
    "from qiskit.primitives import Sampler\n",
    "\n",
    "from qiskit_machine_learning.algorithms import QSVC\n",
    "from qiskit_machine_learning.kernels import FidelityQuantumKernel\n",
    "from qiskit_algorithms.state_fidelities import ComputeUncompute\n",
    "\n",
    "import ssl\n",
    "ssl._create_default_https_context = ssl._create_unverified_context\n",
    " \n",
    "import os\n",
    "import certifi # type: ignore\n",
    "os.environ['SSL_CERT_FILE'] = certifi.where()"
   ]
  },
  {
   "cell_type": "code",
   "execution_count": null,
   "metadata": {},
   "outputs": [
    {
     "name": "stdout",
     "output_type": "stream",
     "text": [
      "Selected classes: [2 7]\n",
      "(500, 8, 8, 3) (10, 8, 8, 3) (500, 2) (10, 2)\n"
     ]
    }
   ],
   "source": [
    "# Load the CIFAR-10 dataset\n",
    "(x_train, y_train), (x_test, y_test) = datasets.cifar10.load_data()\n",
    "\n",
    "# Randomly select 2 classes\n",
    "num_classes = 10\n",
    "selected_classes = np.random.choice(range(num_classes), 2, replace=False)\n",
    "print(f\"Selected classes: {selected_classes}\")\n",
    "\n",
    "# Filter the train and test datasets to include only the selected classes\n",
    "train_mask = np.isin(y_train, selected_classes)\n",
    "test_mask = np.isin(y_test, selected_classes)\n",
    "\n",
    "x_train = x_train[train_mask.squeeze()]\n",
    "y_train = y_train[train_mask.squeeze()]\n",
    "x_test = x_test[test_mask.squeeze()]\n",
    "y_test = y_test[test_mask.squeeze()]\n",
    "\n",
    "idx_train = 500\n",
    "idx_test = 10\n",
    "x_train = x_train[:idx_train]\n",
    "x_test = x_test[:idx_test]\n",
    "y_train = y_train[:idx_train]\n",
    "y_test = y_test[:idx_test]\n",
    "\n",
    "# Resize images to 8x8\n",
    "im_size = 8\n",
    "x_train = tf.image.resize(x_train, (im_size, im_size)).numpy()\n",
    "x_test = tf.image.resize(x_test, (im_size, im_size)).numpy()\n",
    "\n",
    "# Normalize the pixel values to [0, 1]\n",
    "x_train, x_test = x_train / 255.0, x_test / 255.0\n",
    "\n",
    "# One-hot encode the labels for the selected classes\n",
    "y_train = to_categorical(y_train, num_classes=num_classes)[:, selected_classes]\n",
    "y_test = to_categorical(y_test, num_classes=num_classes)[:, selected_classes]\n",
    "\n",
    "# Display the shapes of the processed datasets\n",
    "print(x_train.shape, x_test.shape, y_train.shape, y_test.shape)"
   ]
  },
  {
   "cell_type": "code",
   "execution_count": 4,
   "metadata": {},
   "outputs": [
    {
     "data": {
      "image/png": "[encoded data removed]",
      "text/plain": [
       "<Figure size 640x480 with 9 Axes>"
      ]
     },
     "metadata": {},
     "output_type": "display_data"
    }
   ],
   "source": [
    "# visualize data by plotting images\n",
    "fig, ax = plt.subplots(3, 3)\n",
    "k = 0\n",
    "for i in range(3):\n",
    "    for j in range(3):\n",
    "        ax[i][j].imshow(x_train[k], aspect='auto')\n",
    "        k += 1\n",
    "plt.show()"
   ]
  },
  {
   "cell_type": "code",
   "execution_count": 5,
   "metadata": {},
   "outputs": [
    {
     "data": {
      "text/plain": [
       "((500, 64), (10, 64))"
      ]
     },
     "execution_count": 5,
     "metadata": {},
     "output_type": "execute_result"
    }
   ],
   "source": [
    "x_train_gray = tf.image.rgb_to_grayscale(x_train).numpy()\n",
    "x_test_gray = tf.image.rgb_to_grayscale(x_test).numpy()\n",
    "\n",
    "# Reshape the data to 1D vectors\n",
    "x_train_rs = x_train_gray.reshape(x_train_gray.shape[0], -1)\n",
    "x_test_rs = x_test_gray.reshape(x_test_gray.shape[0], -1)\n",
    "\n",
    "from sklearn.preprocessing import StandardScaler, MinMaxScaler\n",
    "# Standardize the data to have a mean of 0 and variance of 1\n",
    "scaler = StandardScaler()\n",
    "x_train_s = scaler.fit_transform(x_train_rs)\n",
    "x_test_s = scaler.transform(x_test_rs)\n",
    "\n",
    "x_train_s.shape , x_test_s.shape"
   ]
  },
  {
   "cell_type": "code",
   "execution_count": 6,
   "metadata": {},
   "outputs": [
    {
     "name": "stdout",
     "output_type": "stream",
     "text": [
      "Original shape: (500, 64)\n",
      "Reduced shape: (500, 8)\n",
      "Explained variance by 8 components: 68.35%\n"
     ]
    }
   ],
   "source": [
    "# Apply PCA for feature reduction\n",
    "from sklearn.decomposition import PCA\n",
    "n_components = 8\n",
    "pca = PCA(n_components=n_components)\n",
    "x_train_pca = pca.fit_transform(x_train_s)\n",
    "x_test_pca = pca.transform(x_test_s)\n",
    "\n",
    "# Output the shape of the reduced data\n",
    "print(f\"Original shape: {x_train_s.shape}\")\n",
    "print(f\"Reduced shape: {x_train_pca.shape}\")\n",
    "\n",
    "# Optional: Show explained variance to understand the amount of information retained\n",
    "explained_variance = np.sum(pca.explained_variance_ratio_)\n",
    "print(f\"Explained variance by {n_components} components: {explained_variance * 100:.2f}%\")"
   ]
  },
  {
   "cell_type": "markdown",
   "metadata": {},
   "source": [
    "# Classical Support Vector Machine"
   ]
  },
  {
   "cell_type": "code",
   "execution_count": 7,
   "metadata": {},
   "outputs": [
    {
     "name": "stdout",
     "output_type": "stream",
     "text": [
      "CPU times: user 1 µs, sys: 0 ns, total: 1 µs\n",
      "Wall time: 3.1 µs\n",
      "The Model is trained with the given images\n",
      "Training set accuracy 0.788\n"
     ]
    }
   ],
   "source": [
    "import time\n",
    "from sklearn import svm\n",
    "from sklearn.model_selection import GridSearchCV\n",
    "\n",
    "# param_grid={'C':[0.1,1,10,100],'gamma':[0.0001,0.001,0.1,1],'kernel':['rbf','poly']}\n",
    "# param_grid = {'C': [0.1, 1], 'gamma':[0.0001, 0.001], 'kernel': ['rbf', 'poly']}\n",
    "%time\n",
    "t0 = time.time()\n",
    "model = svm.SVC(probability=True)\n",
    "# model = GridSearchCV(svc,param_grid)\n",
    "# print(\"Best Parameters:\", model.best_params_)\n",
    "# Train the SVM classifier\n",
    "model.fit(x_train_pca, y_train.argmax(axis=1))\n",
    "t1 = time.time()\n",
    "print('The Model is trained with the given images')\n",
    "print(f'Training set accuracy {model.score(x_train_pca, y_train.argmax(axis=1))}')\n"
   ]
  },
  {
   "cell_type": "code",
   "execution_count": 8,
   "metadata": {},
   "outputs": [
    {
     "name": "stdout",
     "output_type": "stream",
     "text": [
      "Time taken for training and testing:(0.02457404136657715, 0.011674880981445312)\n"
     ]
    }
   ],
   "source": [
    "# Make predictions on the validation set\n",
    "y_pred = model.predict(x_test_pca)\n",
    "t2 = time.time()\n",
    "print(f\"Time taken for training and testing:{t1-t0, t2-t1}\")"
   ]
  },
  {
   "cell_type": "code",
   "execution_count": 9,
   "metadata": {},
   "outputs": [
    {
     "name": "stdout",
     "output_type": "stream",
     "text": [
      "Test Accuracy with SVM: 70.00%\n",
      "F1 Score: 0.7098901098901099\n",
      "Precision: 0.7333333333333334\n",
      "Confusion Matrix:\n",
      " [[2 1]\n",
      " [2 5]]\n"
     ]
    }
   ],
   "source": [
    "from sklearn.metrics import accuracy_score, confusion_matrix, precision_score, recall_score, f1_score\n",
    "\n",
    "# Evaluate accuracy, f1 score, precision, and confusion matrix\n",
    "\n",
    "accuracy = accuracy_score(y_test.argmax(axis=1), y_pred)\n",
    "f1 = f1_score(y_test.argmax(axis=1), y_pred, average='weighted')\n",
    "precision = precision_score(y_test.argmax(axis=1), y_pred, average='weighted')\n",
    "conf_matrix = confusion_matrix(y_test.argmax(axis=1), y_pred)\n",
    "\n",
    "print(f\"Test Accuracy with SVM: {accuracy * 100:.2f}%\")\n",
    "print(\"F1 Score:\", f1)\n",
    "print(\"Precision:\", precision)\n",
    "print(\"Confusion Matrix:\\n\", conf_matrix)\n"
   ]
  },
  {
   "cell_type": "markdown",
   "metadata": {},
   "source": [
    "# Classical SVM Insights: \n",
    "1. Training set accuracy 78.8%\n",
    "2. Testing set accuracy with SVM: 70.00%\n",
    "3. Train dataset size = 500, test size = 10\n",
    "4. Randomly chosen 2 classes out of 10\n",
    "5. Eache image is 8x8 pizel in size\n",
    "6. Train time: 0.0246 s, Test time: 0.0117 s"
   ]
  },
  {
   "cell_type": "code",
   "execution_count": null,
   "metadata": {},
   "outputs": [],
   "source": []
  }
 ],
 "metadata": {
  "kernelspec": {
   "display_name": "Python 3",
   "language": "python",
   "name": "python3"
  },
  "language_info": {
   "codemirror_mode": {
    "name": "ipython",
    "version": 3
   },
   "file_extension": ".py",
   "mimetype": "text/x-python",
   "name": "python",
   "nbconvert_exporter": "python",
   "pygments_lexer": "ipython3",
   "version": "3.12.4"
  }
 },
 "nbformat": 4,
 "nbformat_minor": 2
}
