{
 "cells": [
  {
   "cell_type": "markdown",
   "metadata": {},
   "source": [
    "# Classical Pre-processing"
   ]
  },
  {
   "cell_type": "code",
   "execution_count": 1,
   "metadata": {},
   "outputs": [
    {
     "data": {
      "text/plain": [
       "'0.7.2'"
      ]
     },
     "execution_count": 1,
     "metadata": {},
     "output_type": "execute_result"
    }
   ],
   "source": [
    "import qiskit_machine_learning\n",
    "qiskit_machine_learning.__version__"
   ]
  },
  {
   "cell_type": "code",
   "execution_count": 2,
   "metadata": {},
   "outputs": [],
   "source": [
    "import numpy as np # type: ignore\n",
    "import tensorflow as tf # type: ignore\n",
    "import torch # type: ignore\n",
    "from tensorflow.keras import datasets, layers, models   # type: ignore\n",
    "from tensorflow.keras.utils import to_categorical # type: ignore\n",
    "import time\n",
    "import matplotlib.pyplot as plt # type: ignore\n",
    "\n",
    "from sklearn.model_selection import train_test_split\n",
    "from sklearn.decomposition import PCA\n",
    "from sklearn.preprocessing import MinMaxScaler, StandardScaler\n",
    "\n",
    "from qiskit_aer import AerSimulator # type: ignore\n",
    "from qiskit import QuantumCircuit, assemble, transpile # type: ignore\n",
    "from qiskit.visualization import plot_histogram # type: ignore\n",
    "from qiskit.providers.fake_provider import GenericBackendV2\n",
    "\n",
    "from qiskit.circuit.library import ZZFeatureMap\n",
    "from qiskit.primitives import Sampler\n",
    "\n",
    "from qiskit_machine_learning.algorithms import QSVC\n",
    "from qiskit_machine_learning.kernels import FidelityQuantumKernel\n",
    "from qiskit_algorithms.state_fidelities import ComputeUncompute\n",
    "\n",
    "import ssl\n",
    "ssl._create_default_https_context = ssl._create_unverified_context\n",
    " \n",
    "import os\n",
    "import certifi # type: ignore\n",
    "os.environ['SSL_CERT_FILE'] = certifi.where()\n"
   ]
  },
  {
   "cell_type": "code",
   "execution_count": 3,
   "metadata": {},
   "outputs": [
    {
     "name": "stdout",
     "output_type": "stream",
     "text": [
      "Selected classes: [3 0]\n",
      "(15, 4, 4, 3) (5, 4, 4, 3) (15, 2) (5, 2)\n"
     ]
    }
   ],
   "source": [
    "# Load the CIFAR-10 dataset\n",
    "(x_train, y_train), (x_test, y_test) = datasets.cifar10.load_data()\n",
    "\n",
    "# Randomly select 2 classes\n",
    "num_classes = 10\n",
    "selected_classes = np.random.choice(range(num_classes), 2, replace=False)\n",
    "print(f\"Selected classes: {selected_classes}\")\n",
    "\n",
    "# Filter the train and test datasets to include only the selected classes\n",
    "train_mask = np.isin(y_train, selected_classes)\n",
    "test_mask = np.isin(y_test, selected_classes)\n",
    "\n",
    "x_train = x_train[train_mask.squeeze()]\n",
    "y_train = y_train[train_mask.squeeze()]\n",
    "x_test = x_test[test_mask.squeeze()]\n",
    "y_test = y_test[test_mask.squeeze()]\n",
    "\n",
    "idx_train = 15\n",
    "idx_test = 5\n",
    "x_train = x_train[:idx_train]\n",
    "x_test = x_test[:idx_test]\n",
    "y_train = y_train[:idx_train]\n",
    "y_test = y_test[:idx_test]\n",
    "\n",
    "# Resize images to 4x4\n",
    "im_size = 4\n",
    "x_train = tf.image.resize(x_train, (im_size, im_size)).numpy()\n",
    "x_test = tf.image.resize(x_test, (im_size, im_size)).numpy()\n",
    "\n",
    "# Normalize the pixel values to [0, 1]\n",
    "x_train, x_test = x_train / 255.0, x_test / 255.0\n",
    "\n",
    "# One-hot encode the labels for the selected classes\n",
    "y_train = to_categorical(y_train, num_classes=num_classes)[:, selected_classes]\n",
    "y_test = to_categorical(y_test, num_classes=num_classes)[:, selected_classes]\n",
    "\n",
    "# Display the shapes of the processed datasets\n",
    "print(x_train.shape, x_test.shape, y_train.shape, y_test.shape)\n"
   ]
  },
  {
   "cell_type": "code",
   "execution_count": 4,
   "metadata": {},
   "outputs": [
    {
     "data": {
      "image/png": "[encoded data removed]",
      "text/plain": [
       "<Figure size 640x480 with 9 Axes>"
      ]
     },
     "metadata": {},
     "output_type": "display_data"
    }
   ],
   "source": [
    "# visualize data by plotting images\n",
    "fig, ax = plt.subplots(3, 3)\n",
    "k = 0\n",
    "for i in range(3):\n",
    "    for j in range(3):\n",
    "        ax[i][j].imshow(x_train[k], aspect='auto')\n",
    "        k += 1\n",
    "plt.suptitle(\"Sample Images from the Training Dataset\", fontsize=10)        \n",
    "plt.show()"
   ]
  },
  {
   "cell_type": "code",
   "execution_count": 5,
   "metadata": {},
   "outputs": [
    {
     "name": "stdout",
     "output_type": "stream",
     "text": [
      "<class 'torch.Tensor'> <class 'torch.Tensor'>\n",
      "torch.Size([15, 4, 4, 1]) torch.Size([5, 4, 4, 1])\n"
     ]
    }
   ],
   "source": [
    "x_train_gray = tf.image.rgb_to_grayscale(x_train).numpy()\n",
    "x_test_gray = tf.image.rgb_to_grayscale(x_test).numpy()\n",
    "\n",
    "x_train_gray_tensor = torch.from_numpy(x_train_gray)\n",
    "x_test_gray_tensor = torch.from_numpy(x_test_gray)\n",
    "\n",
    "print(type(x_train_gray_tensor), type(x_test_gray_tensor))\n",
    "print(x_train_gray_tensor.shape, x_test_gray_tensor.shape)"
   ]
  },
  {
   "cell_type": "markdown",
   "metadata": {},
   "source": [
    "# Encoding 1 image"
   ]
  },
  {
   "cell_type": "code",
   "execution_count": 6,
   "metadata": {},
   "outputs": [],
   "source": [
    "# # Encoding one image\n",
    "\n",
    "# from qiskit.visualization import plot_histogram\n",
    "# from qiskit.providers.fake_provider import GenericBackendV2\n",
    "\n",
    "# image = x_train_gray_tensor[0]\n",
    "# image = image.permute(2, 0, 1)  # Move channel dimension to the first position\n",
    "# print(f\"Permuted image size: {image.size()}\")  # Should now be (1, 32, 32)\n",
    "\n",
    "# from piqture.embeddings.image_embeddings.ineqr import INEQR # type: ignore\n",
    "\n",
    "# # Retrieve a single image from the dataset\n",
    "# image_size = tuple(image.squeeze().size())\n",
    "\n",
    "# # Change pixel values from float to integer\n",
    "# pixel_vals = (image).round().to(torch.uint8)\n",
    "# pixel_vals = pixel_vals.tolist()\n",
    "\n",
    "# embedding = INEQR(image_size, pixel_vals).ineqr()\n",
    "# embedding.barrier()\n",
    "# # embedding.measure_all()\n",
    "\n",
    "# # backend = AerSimulator()\n",
    "# backend = GenericBackendV2(16)\n",
    "# qc_compiled = transpile(embedding,backend)\n",
    "# qc_compiled.draw()\n"
   ]
  },
  {
   "cell_type": "code",
   "execution_count": 7,
   "metadata": {},
   "outputs": [],
   "source": [
    "# # job_sim = backend.run(qc_compiled,shots=1024)\n",
    "# # result_sim = job_sim.result()\n",
    "# # # embedding.save_statevector()\n",
    "# # outputstate = np.real(result_sim.get_statevector(qc_compiled, decimals=100))\n",
    "# # outputstate\n",
    "\n",
    "# embedding.barrier()\n",
    "# # embedding.measure_all()\n",
    "\n",
    "# # backend = AerSimulator()\n",
    "# backend = GenericBackendV2(16)\n",
    "# qc_compiled = transpile(embedding,backend)\n",
    "# qc_compiled.save_statevector()\n",
    "# # Run the transpiled circuit using the simulated fake backend\n",
    "# job = backend.run(qc_compiled)\n",
    "# result = job.result()\n",
    "# outputstate = np.real(result.get_statevector(qc_compiled, decimals=100))\n",
    "# outputstate"
   ]
  },
  {
   "cell_type": "markdown",
   "metadata": {},
   "source": [
    "# Embedding the whole dataset\n"
   ]
  },
  {
   "cell_type": "code",
   "execution_count": 8,
   "metadata": {},
   "outputs": [
    {
     "ename": "KeyboardInterrupt",
     "evalue": "",
     "output_type": "error",
     "traceback": [
      "\u001b[0;31m---------------------------------------------------------------------------\u001b[0m",
      "\u001b[0;31mKeyboardInterrupt\u001b[0m                         Traceback (most recent call last)",
      "Cell \u001b[0;32mIn[8], line 35\u001b[0m\n\u001b[1;32m     33\u001b[0m \u001b[38;5;66;03m# Run the transpiled circuit using the simulated fake backend\u001b[39;00m\n\u001b[1;32m     34\u001b[0m job \u001b[38;5;241m=\u001b[39m backend\u001b[38;5;241m.\u001b[39mrun(qc_compiled)\n\u001b[0;32m---> 35\u001b[0m result \u001b[38;5;241m=\u001b[39m \u001b[43mjob\u001b[49m\u001b[38;5;241;43m.\u001b[39;49m\u001b[43mresult\u001b[49m\u001b[43m(\u001b[49m\u001b[43m)\u001b[49m\n\u001b[1;32m     36\u001b[0m outputstate_train \u001b[38;5;241m=\u001b[39m np\u001b[38;5;241m.\u001b[39mreal(result\u001b[38;5;241m.\u001b[39mget_statevector(qc_compiled, decimals\u001b[38;5;241m=\u001b[39m\u001b[38;5;241m100\u001b[39m))\n\u001b[1;32m     37\u001b[0m train_state_vec\u001b[38;5;241m.\u001b[39mappend(outputstate_train)\n",
      "File \u001b[0;32m/Library/Frameworks/Python.framework/Versions/3.12/lib/python3.12/site-packages/qiskit_aer/jobs/utils.py:38\u001b[0m, in \u001b[0;36mrequires_submit.<locals>._wrapper\u001b[0;34m(self, *args, **kwargs)\u001b[0m\n\u001b[1;32m     36\u001b[0m \u001b[38;5;28;01mif\u001b[39;00m \u001b[38;5;28mself\u001b[39m\u001b[38;5;241m.\u001b[39m_future \u001b[38;5;129;01mis\u001b[39;00m \u001b[38;5;28;01mNone\u001b[39;00m:\n\u001b[1;32m     37\u001b[0m     \u001b[38;5;28;01mraise\u001b[39;00m JobError(\u001b[38;5;124m\"\u001b[39m\u001b[38;5;124mJob not submitted yet!. You have to .submit() first!\u001b[39m\u001b[38;5;124m\"\u001b[39m)\n\u001b[0;32m---> 38\u001b[0m \u001b[38;5;28;01mreturn\u001b[39;00m \u001b[43mfunc\u001b[49m\u001b[43m(\u001b[49m\u001b[38;5;28;43mself\u001b[39;49m\u001b[43m,\u001b[49m\u001b[43m \u001b[49m\u001b[38;5;241;43m*\u001b[39;49m\u001b[43margs\u001b[49m\u001b[43m,\u001b[49m\u001b[43m \u001b[49m\u001b[38;5;241;43m*\u001b[39;49m\u001b[38;5;241;43m*\u001b[39;49m\u001b[43mkwargs\u001b[49m\u001b[43m)\u001b[49m\n",
      "File \u001b[0;32m/Library/Frameworks/Python.framework/Versions/3.12/lib/python3.12/site-packages/qiskit_aer/jobs/aerjob.py:96\u001b[0m, in \u001b[0;36mAerJob.result\u001b[0;34m(self, timeout)\u001b[0m\n\u001b[1;32m     78\u001b[0m \u001b[38;5;129m@requires_submit\u001b[39m\n\u001b[1;32m     79\u001b[0m \u001b[38;5;28;01mdef\u001b[39;00m \u001b[38;5;21mresult\u001b[39m(\u001b[38;5;28mself\u001b[39m, timeout\u001b[38;5;241m=\u001b[39m\u001b[38;5;28;01mNone\u001b[39;00m):\n\u001b[1;32m     80\u001b[0m     \u001b[38;5;66;03m# pylint: disable=arguments-differ\u001b[39;00m\n\u001b[1;32m     81\u001b[0m \u001b[38;5;250m    \u001b[39m\u001b[38;5;124;03m\"\"\"Get job result. The behavior is the same as the underlying\u001b[39;00m\n\u001b[1;32m     82\u001b[0m \u001b[38;5;124;03m    concurrent Future objects,\u001b[39;00m\n\u001b[1;32m     83\u001b[0m \n\u001b[0;32m   (...)\u001b[0m\n\u001b[1;32m     94\u001b[0m \u001b[38;5;124;03m        concurrent.futures.CancelledError: if job cancelled before completed.\u001b[39;00m\n\u001b[1;32m     95\u001b[0m \u001b[38;5;124;03m    \"\"\"\u001b[39;00m\n\u001b[0;32m---> 96\u001b[0m     \u001b[38;5;28;01mreturn\u001b[39;00m \u001b[38;5;28;43mself\u001b[39;49m\u001b[38;5;241;43m.\u001b[39;49m\u001b[43m_future\u001b[49m\u001b[38;5;241;43m.\u001b[39;49m\u001b[43mresult\u001b[49m\u001b[43m(\u001b[49m\u001b[43mtimeout\u001b[49m\u001b[38;5;241;43m=\u001b[39;49m\u001b[43mtimeout\u001b[49m\u001b[43m)\u001b[49m\n",
      "File \u001b[0;32m/Library/Frameworks/Python.framework/Versions/3.12/lib/python3.12/concurrent/futures/_base.py:451\u001b[0m, in \u001b[0;36mFuture.result\u001b[0;34m(self, timeout)\u001b[0m\n\u001b[1;32m    448\u001b[0m \u001b[38;5;28;01melif\u001b[39;00m \u001b[38;5;28mself\u001b[39m\u001b[38;5;241m.\u001b[39m_state \u001b[38;5;241m==\u001b[39m FINISHED:\n\u001b[1;32m    449\u001b[0m     \u001b[38;5;28;01mreturn\u001b[39;00m \u001b[38;5;28mself\u001b[39m\u001b[38;5;241m.\u001b[39m__get_result()\n\u001b[0;32m--> 451\u001b[0m \u001b[38;5;28;43mself\u001b[39;49m\u001b[38;5;241;43m.\u001b[39;49m\u001b[43m_condition\u001b[49m\u001b[38;5;241;43m.\u001b[39;49m\u001b[43mwait\u001b[49m\u001b[43m(\u001b[49m\u001b[43mtimeout\u001b[49m\u001b[43m)\u001b[49m\n\u001b[1;32m    453\u001b[0m \u001b[38;5;28;01mif\u001b[39;00m \u001b[38;5;28mself\u001b[39m\u001b[38;5;241m.\u001b[39m_state \u001b[38;5;129;01min\u001b[39;00m [CANCELLED, CANCELLED_AND_NOTIFIED]:\n\u001b[1;32m    454\u001b[0m     \u001b[38;5;28;01mraise\u001b[39;00m CancelledError()\n",
      "File \u001b[0;32m/Library/Frameworks/Python.framework/Versions/3.12/lib/python3.12/threading.py:355\u001b[0m, in \u001b[0;36mCondition.wait\u001b[0;34m(self, timeout)\u001b[0m\n\u001b[1;32m    353\u001b[0m \u001b[38;5;28;01mtry\u001b[39;00m:    \u001b[38;5;66;03m# restore state no matter what (e.g., KeyboardInterrupt)\u001b[39;00m\n\u001b[1;32m    354\u001b[0m     \u001b[38;5;28;01mif\u001b[39;00m timeout \u001b[38;5;129;01mis\u001b[39;00m \u001b[38;5;28;01mNone\u001b[39;00m:\n\u001b[0;32m--> 355\u001b[0m         \u001b[43mwaiter\u001b[49m\u001b[38;5;241;43m.\u001b[39;49m\u001b[43macquire\u001b[49m\u001b[43m(\u001b[49m\u001b[43m)\u001b[49m\n\u001b[1;32m    356\u001b[0m         gotit \u001b[38;5;241m=\u001b[39m \u001b[38;5;28;01mTrue\u001b[39;00m\n\u001b[1;32m    357\u001b[0m     \u001b[38;5;28;01melse\u001b[39;00m:\n",
      "\u001b[0;31mKeyboardInterrupt\u001b[0m: "
     ]
    }
   ],
   "source": [
    "\n",
    "# Function to process a single image\n",
    "def process_image(image):\n",
    "    image = image.permute(2, 0, 1)  # Move channel dimension to the first position\n",
    "    # print(f\"Permuted image size: {image.size()}\")  # Should now be (1, 32, 32)\n",
    "\n",
    "    from piqture.embeddings.image_embeddings.ineqr import INEQR # type: ignore\n",
    "\n",
    "    image_size = tuple(image.squeeze().size())\n",
    "\n",
    "    # Change pixel values from float to integer\n",
    "    pixel_vals = (image).round().to(torch.uint8)\n",
    "    pixel_vals = pixel_vals.tolist()\n",
    "\n",
    "    embedding = INEQR(image_size, pixel_vals).ineqr()\n",
    "    \n",
    "    return embedding\n",
    "\n",
    "# Process all train images\n",
    "train_embeddings = []\n",
    "train_state_vec = []\n",
    "for i in range(idx_train):\n",
    "    image = x_train_gray_tensor[i]\n",
    "    embedding_train = process_image(image)\n",
    "    train_embeddings.append(embedding_train)\n",
    "    # backend = AerSimulator()\n",
    "    embedding_train.barrier()\n",
    "    embedding_train.measure_all()\n",
    "\n",
    "    # backend = AerSimulator()\n",
    "    backend = GenericBackendV2(16)\n",
    "    qc_compiled = transpile(embedding_train,backend)\n",
    "    qc_compiled.save_statevector()\n",
    "    # Run the transpiled circuit using the simulated fake backend\n",
    "    job = backend.run(qc_compiled)\n",
    "    result = job.result()\n",
    "    outputstate_train = np.real(result.get_statevector(qc_compiled, decimals=100))\n",
    "    train_state_vec.append(outputstate_train)\n",
    "\n",
    "# Process all test images\n",
    "test_embeddings = []\n",
    "test_state_vec = []\n",
    "for i in range(idx_test):\n",
    "    image = x_test_gray_tensor[i]\n",
    "    embedding_test = process_image(image)\n",
    "    test_embeddings.append(embedding_test)\n",
    "    embedding_test.barrier()\n",
    "    embedding_test.measure_all()\n",
    "\n",
    "    # backend = AerSimulator()\n",
    "\n",
    "    backend = GenericBackendV2(16)\n",
    "    qc_compiled = transpile(embedding_test,backend)\n",
    "    qc_compiled.save_statevector()\n",
    "    # Run the transpiled circuit using the simulated fake backend\n",
    "    job = backend.run(qc_compiled)\n",
    "    result = job.result()\n",
    "    outputstate_test = np.real(result.get_statevector(qc_compiled, decimals=100))\n",
    "    test_state_vec.append(outputstate_test)\n",
    "\n",
    "\n",
    "print(f\"Number of train image embeddings: {len(train_embeddings)}\")\n",
    "print(f\"Number of test image embeddings: {len(test_embeddings)}\")\n",
    "\n",
    "print(f\"Length of train image statevectors: {len(train_state_vec)}\")\n",
    "print(f\"Length of test image statevectors: {len(test_state_vec)}\")\n",
    "\n",
    "# Circuit analysis of 1 image\n",
    "print('Circuit dimensions')\n",
    "print('Circuit depth for each image: ', train_embeddings[0].decompose().depth())\n",
    "print('Circuit size for each image: ', train_embeddings[0].decompose().size())"
   ]
  },
  {
   "cell_type": "markdown",
   "metadata": {},
   "source": [
    "Above code block should be run on real ibm quantum computer. In local environment it requires a lot of time and computational resource."
   ]
  },
  {
   "cell_type": "markdown",
   "metadata": {},
   "source": [
    "# QSVM with INEQR"
   ]
  },
  {
   "cell_type": "code",
   "execution_count": null,
   "metadata": {},
   "outputs": [
    {
     "data": {
      "text/plain": [
       "((15, 65536), (5, 65536), (15,), array([1, 1, 1, 0, 0]))"
      ]
     },
     "execution_count": 9,
     "metadata": {},
     "output_type": "execute_result"
    }
   ],
   "source": [
    "# Convert statevectors to numpy arrays\n",
    "X_train = np.array(train_state_vec)\n",
    "X_test = np.array(test_state_vec)\n",
    "y_train_binary = y_train.argmax(axis=1)  # Convert one-hot encoding to class labels\n",
    "y_test_binary = y_test.argmax(axis=1)\n",
    "\n",
    "X_train.shape, X_test.shape, y_train_binary.shape, y_test_binary"
   ]
  },
  {
   "cell_type": "code",
   "execution_count": null,
   "metadata": {},
   "outputs": [
    {
     "data": {
      "text/plain": [
       "((15, 65536), (5, 65536))"
      ]
     },
     "execution_count": 10,
     "metadata": {},
     "output_type": "execute_result"
    }
   ],
   "source": [
    "from sklearn.preprocessing import StandardScaler, MinMaxScaler # type: ignore\n",
    "# Standardize the data to have a mean of 0 and variance of 1\n",
    "scaler = StandardScaler()\n",
    "x_train_s = scaler.fit_transform(X_train)\n",
    "x_test_s = scaler.transform(X_test)\n",
    "\n",
    "x_train_s.shape , x_test_s.shape"
   ]
  },
  {
   "cell_type": "code",
   "execution_count": null,
   "metadata": {},
   "outputs": [
    {
     "name": "stdout",
     "output_type": "stream",
     "text": [
      "Original shape: (15, 65536)\n",
      "Reduced shape: (15, 8)\n",
      "Explained variance by 8 components: 78.32%\n"
     ]
    }
   ],
   "source": [
    "# Apply PCA for feature reduction\n",
    "from sklearn.decomposition import PCA # type: ignore\n",
    "n_components = 8\n",
    "pca = PCA(n_components=n_components)\n",
    "x_train_pca = pca.fit_transform(x_train_s)\n",
    "x_test_pca = pca.transform(x_test_s)\n",
    "\n",
    "# Output the shape of the reduced data\n",
    "print(f\"Original shape: {x_train_s.shape}\")\n",
    "print(f\"Reduced shape: {x_train_pca.shape}\")\n",
    "\n",
    "# Optional: Show explained variance to understand the amount of information retained\n",
    "explained_variance = np.sum(pca.explained_variance_ratio_)\n",
    "print(f\"Explained variance by {n_components} components: {explained_variance * 100:.2f}%\")"
   ]
  },
  {
   "cell_type": "code",
   "execution_count": null,
   "metadata": {},
   "outputs": [
    {
     "name": "stdout",
     "output_type": "stream",
     "text": [
      "CPU times: user 10 µs, sys: 32 µs, total: 42 µs\n",
      "Wall time: 11 µs\n"
     ]
    },
    {
     "name": "stderr",
     "output_type": "stream",
     "text": [
      "/var/folders/px/h6cz0_fx3pz2knsspxg_65kc0000gn/T/ipykernel_40637/3365469968.py:5: DeprecationWarning: The class ``qiskit.primitives.sampler.Sampler`` is deprecated as of qiskit 1.2. It will be removed no earlier than 3 months after the release date. All implementations of the `BaseSamplerV1` interface have been deprecated in favor of their V2 counterparts. The V2 alternative for the `Sampler` class is `StatevectorSampler`.\n",
      "  sampler = Sampler()\n"
     ]
    },
    {
     "name": "stdout",
     "output_type": "stream",
     "text": [
      "Training set accuracy 0.9333333333333333\n"
     ]
    }
   ],
   "source": [
    "# Define the quantum kernel\n",
    "%time\n",
    "t0 = time.time()\n",
    "\n",
    "sampler = Sampler()  \n",
    "fidelity = ComputeUncompute(sampler) \n",
    "quantum_kernel = FidelityQuantumKernel(fidelity=fidelity)\n",
    "\n",
    "# Train the QSVM model\n",
    "qsvc = QSVC(quantum_kernel=quantum_kernel)\n",
    "qsvc.fit(x_train_pca, y_train.argmax(axis=1))\n",
    "\n",
    "t1 = time.time()\n",
    "print(f'Training set accuracy {qsvc.score(x_train_pca, y_train.argmax(axis=1))}')\n"
   ]
  },
  {
   "cell_type": "code",
   "execution_count": null,
   "metadata": {},
   "outputs": [
    {
     "name": "stdout",
     "output_type": "stream",
     "text": [
      "Test set accuracy: 0.6\n"
     ]
    }
   ],
   "source": [
    "print(f\"Test set accuracy: {qsvc.score(x_test_pca, y_test.argmax(axis=1))}\")\n",
    "t2 = time.time()"
   ]
  },
  {
   "cell_type": "code",
   "execution_count": null,
   "metadata": {},
   "outputs": [
    {
     "name": "stdout",
     "output_type": "stream",
     "text": [
      "Time taken for training and testing:(1.0630559921264648, 1.618175983428955)\n"
     ]
    }
   ],
   "source": [
    "print(f\"Time taken for training and testing:{t1-t0, t2-t1}\")"
   ]
  },
  {
   "cell_type": "markdown",
   "metadata": {},
   "source": [
    "# QSVM + INEQR Insights: \n",
    "\n",
    "1. Training set accuracy 93%\n",
    "2. Testing set accuracy with SVM: 60.00%\n",
    "3. Train dataset size = 15, test size = 5\n",
    "4. Randomly chosen 2 classes out of 10\n",
    "5. Eache image is 4x4 pizel in size\n",
    "6. Train time: 1.06 s, Test time: 1.62 s"
   ]
  },
  {
   "cell_type": "markdown",
   "metadata": {},
   "source": []
  }
 ],
 "metadata": {
  "kernelspec": {
   "display_name": "Python 3",
   "language": "python",
   "name": "python3"
  },
  "language_info": {
   "codemirror_mode": {
    "name": "ipython",
    "version": 3
   },
   "file_extension": ".py",
   "mimetype": "text/x-python",
   "name": "python",
   "nbconvert_exporter": "python",
   "pygments_lexer": "ipython3",
   "version": "3.12.4"
  }
 },
 "nbformat": 4,
 "nbformat_minor": 2
}
